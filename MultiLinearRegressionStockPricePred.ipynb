{
  "nbformat": 4,
  "nbformat_minor": 0,
  "metadata": {
    "colab": {
      "name": "MultiLinearRegressionStockPricePred.ipynb",
      "provenance": []
    },
    "kernelspec": {
      "name": "python3",
      "display_name": "Python 3"
    },
    "language_info": {
      "name": "python"
    }
  },
  "cells": [
    {
      "cell_type": "code",
      "metadata": {
        "colab": {
          "base_uri": "https://localhost:8080/"
        },
        "id": "JubkyW-6fxX2",
        "outputId": "d7292050-920a-434a-900d-9fd3ba59d49a"
      },
      "source": [
        "!pip install numpy\n",
        "!pip install pandas"
      ],
      "execution_count": 1,
      "outputs": [
        {
          "output_type": "stream",
          "text": [
            "Requirement already satisfied: numpy in /usr/local/lib/python3.7/dist-packages (1.19.5)\n",
            "Requirement already satisfied: pandas in /usr/local/lib/python3.7/dist-packages (1.1.5)\n",
            "Requirement already satisfied: pytz>=2017.2 in /usr/local/lib/python3.7/dist-packages (from pandas) (2018.9)\n",
            "Requirement already satisfied: numpy>=1.15.4 in /usr/local/lib/python3.7/dist-packages (from pandas) (1.19.5)\n",
            "Requirement already satisfied: python-dateutil>=2.7.3 in /usr/local/lib/python3.7/dist-packages (from pandas) (2.8.2)\n",
            "Requirement already satisfied: six>=1.5 in /usr/local/lib/python3.7/dist-packages (from python-dateutil>=2.7.3->pandas) (1.15.0)\n"
          ],
          "name": "stdout"
        }
      ]
    },
    {
      "cell_type": "code",
      "metadata": {
        "colab": {
          "base_uri": "https://localhost:8080/"
        },
        "id": "ndro2ZK8gQoF",
        "outputId": "dd80588d-73a0-4f06-9a3f-4df10cc2bae9"
      },
      "source": [
        "!pip install sklearn matplotlib"
      ],
      "execution_count": 2,
      "outputs": [
        {
          "output_type": "stream",
          "text": [
            "Requirement already satisfied: sklearn in /usr/local/lib/python3.7/dist-packages (0.0)\n",
            "Requirement already satisfied: matplotlib in /usr/local/lib/python3.7/dist-packages (3.2.2)\n",
            "Requirement already satisfied: scikit-learn in /usr/local/lib/python3.7/dist-packages (from sklearn) (0.22.2.post1)\n",
            "Requirement already satisfied: kiwisolver>=1.0.1 in /usr/local/lib/python3.7/dist-packages (from matplotlib) (1.3.1)\n",
            "Requirement already satisfied: numpy>=1.11 in /usr/local/lib/python3.7/dist-packages (from matplotlib) (1.19.5)\n",
            "Requirement already satisfied: python-dateutil>=2.1 in /usr/local/lib/python3.7/dist-packages (from matplotlib) (2.8.2)\n",
            "Requirement already satisfied: cycler>=0.10 in /usr/local/lib/python3.7/dist-packages (from matplotlib) (0.10.0)\n",
            "Requirement already satisfied: pyparsing!=2.0.4,!=2.1.2,!=2.1.6,>=2.0.1 in /usr/local/lib/python3.7/dist-packages (from matplotlib) (2.4.7)\n",
            "Requirement already satisfied: six in /usr/local/lib/python3.7/dist-packages (from cycler>=0.10->matplotlib) (1.15.0)\n",
            "Requirement already satisfied: joblib>=0.11 in /usr/local/lib/python3.7/dist-packages (from scikit-learn->sklearn) (1.0.1)\n",
            "Requirement already satisfied: scipy>=0.17.0 in /usr/local/lib/python3.7/dist-packages (from scikit-learn->sklearn) (1.4.1)\n"
          ],
          "name": "stdout"
        }
      ]
    },
    {
      "cell_type": "code",
      "metadata": {
        "colab": {
          "base_uri": "https://localhost:8080/"
        },
        "id": "RZHBBD0lga_w",
        "outputId": "bfd1aa6d-811b-4e61-e3bf-cc393054e1e6"
      },
      "source": [
        "!pip install pandas_datareader\n",
        "!pip install datetime"
      ],
      "execution_count": 3,
      "outputs": [
        {
          "output_type": "stream",
          "text": [
            "Requirement already satisfied: pandas_datareader in /usr/local/lib/python3.7/dist-packages (0.9.0)\n",
            "Requirement already satisfied: pandas>=0.23 in /usr/local/lib/python3.7/dist-packages (from pandas_datareader) (1.1.5)\n",
            "Requirement already satisfied: requests>=2.19.0 in /usr/local/lib/python3.7/dist-packages (from pandas_datareader) (2.23.0)\n",
            "Requirement already satisfied: lxml in /usr/local/lib/python3.7/dist-packages (from pandas_datareader) (4.2.6)\n",
            "Requirement already satisfied: pytz>=2017.2 in /usr/local/lib/python3.7/dist-packages (from pandas>=0.23->pandas_datareader) (2018.9)\n",
            "Requirement already satisfied: python-dateutil>=2.7.3 in /usr/local/lib/python3.7/dist-packages (from pandas>=0.23->pandas_datareader) (2.8.2)\n",
            "Requirement already satisfied: numpy>=1.15.4 in /usr/local/lib/python3.7/dist-packages (from pandas>=0.23->pandas_datareader) (1.19.5)\n",
            "Requirement already satisfied: six>=1.5 in /usr/local/lib/python3.7/dist-packages (from python-dateutil>=2.7.3->pandas>=0.23->pandas_datareader) (1.15.0)\n",
            "Requirement already satisfied: urllib3!=1.25.0,!=1.25.1,<1.26,>=1.21.1 in /usr/local/lib/python3.7/dist-packages (from requests>=2.19.0->pandas_datareader) (1.24.3)\n",
            "Requirement already satisfied: chardet<4,>=3.0.2 in /usr/local/lib/python3.7/dist-packages (from requests>=2.19.0->pandas_datareader) (3.0.4)\n",
            "Requirement already satisfied: idna<3,>=2.5 in /usr/local/lib/python3.7/dist-packages (from requests>=2.19.0->pandas_datareader) (2.10)\n",
            "Requirement already satisfied: certifi>=2017.4.17 in /usr/local/lib/python3.7/dist-packages (from requests>=2.19.0->pandas_datareader) (2021.5.30)\n",
            "Collecting datetime\n",
            "  Downloading DateTime-4.3-py2.py3-none-any.whl (60 kB)\n",
            "\u001b[K     |████████████████████████████████| 60 kB 3.3 MB/s \n",
            "\u001b[?25hCollecting zope.interface\n",
            "  Downloading zope.interface-5.4.0-cp37-cp37m-manylinux2010_x86_64.whl (251 kB)\n",
            "\u001b[K     |████████████████████████████████| 251 kB 11.1 MB/s \n",
            "\u001b[?25hRequirement already satisfied: pytz in /usr/local/lib/python3.7/dist-packages (from datetime) (2018.9)\n",
            "Requirement already satisfied: setuptools in /usr/local/lib/python3.7/dist-packages (from zope.interface->datetime) (57.2.0)\n",
            "Installing collected packages: zope.interface, datetime\n",
            "Successfully installed datetime-4.3 zope.interface-5.4.0\n"
          ],
          "name": "stdout"
        }
      ]
    },
    {
      "cell_type": "code",
      "metadata": {
        "colab": {
          "base_uri": "https://localhost:8080/",
          "height": 838
        },
        "id": "0K9MMXfQzjvO",
        "outputId": "f2ab1adf-0e7b-4d31-d114-1e5d8886a576"
      },
      "source": [
        "!pip install --upgrade pandas \n",
        "!pip install --upgrade pandas-datareader"
      ],
      "execution_count": 6,
      "outputs": [
        {
          "output_type": "stream",
          "text": [
            "Requirement already satisfied: pandas in /usr/local/lib/python3.7/dist-packages (1.1.5)\n",
            "Collecting pandas\n",
            "  Downloading pandas-1.3.2-cp37-cp37m-manylinux_2_17_x86_64.manylinux2014_x86_64.whl (11.3 MB)\n",
            "\u001b[K     |████████████████████████████████| 11.3 MB 5.0 MB/s \n",
            "\u001b[?25hRequirement already satisfied: python-dateutil>=2.7.3 in /usr/local/lib/python3.7/dist-packages (from pandas) (2.8.2)\n",
            "Requirement already satisfied: numpy>=1.17.3 in /usr/local/lib/python3.7/dist-packages (from pandas) (1.19.5)\n",
            "Requirement already satisfied: pytz>=2017.3 in /usr/local/lib/python3.7/dist-packages (from pandas) (2018.9)\n",
            "Requirement already satisfied: six>=1.5 in /usr/local/lib/python3.7/dist-packages (from python-dateutil>=2.7.3->pandas) (1.15.0)\n",
            "Installing collected packages: pandas\n",
            "  Attempting uninstall: pandas\n",
            "    Found existing installation: pandas 1.1.5\n",
            "    Uninstalling pandas-1.1.5:\n",
            "      Successfully uninstalled pandas-1.1.5\n",
            "\u001b[31mERROR: pip's dependency resolver does not currently take into account all the packages that are installed. This behaviour is the source of the following dependency conflicts.\n",
            "google-colab 1.0.0 requires pandas~=1.1.0; python_version >= \"3.0\", but you have pandas 1.3.2 which is incompatible.\u001b[0m\n",
            "Successfully installed pandas-1.3.2\n"
          ],
          "name": "stdout"
        },
        {
          "output_type": "display_data",
          "data": {
            "application/vnd.colab-display-data+json": {
              "pip_warning": {
                "packages": [
                  "pandas"
                ]
              }
            }
          },
          "metadata": {
            "tags": []
          }
        },
        {
          "output_type": "stream",
          "text": [
            "Requirement already satisfied: pandas-datareader in /usr/local/lib/python3.7/dist-packages (0.9.0)\n",
            "Collecting pandas-datareader\n",
            "  Downloading pandas_datareader-0.10.0-py3-none-any.whl (109 kB)\n",
            "\u001b[K     |████████████████████████████████| 109 kB 5.2 MB/s \n",
            "\u001b[?25hRequirement already satisfied: lxml in /usr/local/lib/python3.7/dist-packages (from pandas-datareader) (4.2.6)\n",
            "Requirement already satisfied: pandas>=0.23 in /usr/local/lib/python3.7/dist-packages (from pandas-datareader) (1.3.2)\n",
            "Requirement already satisfied: requests>=2.19.0 in /usr/local/lib/python3.7/dist-packages (from pandas-datareader) (2.23.0)\n",
            "Requirement already satisfied: pytz>=2017.3 in /usr/local/lib/python3.7/dist-packages (from pandas>=0.23->pandas-datareader) (2018.9)\n",
            "Requirement already satisfied: numpy>=1.17.3 in /usr/local/lib/python3.7/dist-packages (from pandas>=0.23->pandas-datareader) (1.19.5)\n",
            "Requirement already satisfied: python-dateutil>=2.7.3 in /usr/local/lib/python3.7/dist-packages (from pandas>=0.23->pandas-datareader) (2.8.2)\n",
            "Requirement already satisfied: six>=1.5 in /usr/local/lib/python3.7/dist-packages (from python-dateutil>=2.7.3->pandas>=0.23->pandas-datareader) (1.15.0)\n",
            "Requirement already satisfied: chardet<4,>=3.0.2 in /usr/local/lib/python3.7/dist-packages (from requests>=2.19.0->pandas-datareader) (3.0.4)\n",
            "Requirement already satisfied: certifi>=2017.4.17 in /usr/local/lib/python3.7/dist-packages (from requests>=2.19.0->pandas-datareader) (2021.5.30)\n",
            "Requirement already satisfied: idna<3,>=2.5 in /usr/local/lib/python3.7/dist-packages (from requests>=2.19.0->pandas-datareader) (2.10)\n",
            "Requirement already satisfied: urllib3!=1.25.0,!=1.25.1,<1.26,>=1.21.1 in /usr/local/lib/python3.7/dist-packages (from requests>=2.19.0->pandas-datareader) (1.24.3)\n",
            "Installing collected packages: pandas-datareader\n",
            "  Attempting uninstall: pandas-datareader\n",
            "    Found existing installation: pandas-datareader 0.9.0\n",
            "    Uninstalling pandas-datareader-0.9.0:\n",
            "      Successfully uninstalled pandas-datareader-0.9.0\n",
            "Successfully installed pandas-datareader-0.10.0\n"
          ],
          "name": "stdout"
        },
        {
          "output_type": "display_data",
          "data": {
            "application/vnd.colab-display-data+json": {
              "pip_warning": {
                "packages": [
                  "pandas_datareader"
                ]
              }
            }
          },
          "metadata": {
            "tags": []
          }
        }
      ]
    },
    {
      "cell_type": "markdown",
      "metadata": {
        "id": "RYH5ScPIgnM5"
      },
      "source": [
        "**Multi Linear Regression**"
      ]
    },
    {
      "cell_type": "code",
      "metadata": {
        "id": "LbR67YVHgvK7"
      },
      "source": [
        "#Importing libraries\n",
        "\n",
        "#For fast numerical operations on matrices\n",
        "import numpy as np\n",
        "\n",
        "#For dataframes\n",
        "import pandas as pd\n",
        "\n",
        "#Linear regression library\n",
        "from sklearn.model_selection import train_test_split\n",
        "from sklearn.linear_model import LinearRegression\n",
        "from sklearn.preprocessing import LabelEncoder\n",
        "from sklearn.metrics import mean_squared_error\n",
        "\n",
        "#Plotting tool\n",
        "import matplotlib.pyplot as plt\n",
        "\n",
        "\n",
        "#date time\n",
        "from datetime import datetime \n",
        "\n",
        "# For reading stock data from yahoo\n",
        "from pandas_datareader import data\n",
        "import fix_yahoo_finance as yf\n"
      ],
      "execution_count": 29,
      "outputs": []
    },
    {
      "cell_type": "code",
      "metadata": {
        "colab": {
          "base_uri": "https://localhost:8080/",
          "height": 235
        },
        "id": "3z5emqqcg81x",
        "outputId": "1a9143a0-2585-42f5-8328-2ccc3bb072c1"
      },
      "source": [
        "# Linear regression\n",
        "\n",
        "#Getting data from yahoo API\n",
        "\n",
        "# Set up End and Start times for data grab\n",
        "end = datetime.now()\n",
        "start = datetime(end.year - 5, end.month, end.day)\n",
        "\n",
        "amazon_df = data.DataReader('AMZN', 'yahoo', start, end)\n",
        "\n",
        "amazon_df.head()"
      ],
      "execution_count": 31,
      "outputs": [
        {
          "output_type": "execute_result",
          "data": {
            "text/html": [
              "<div>\n",
              "<style scoped>\n",
              "    .dataframe tbody tr th:only-of-type {\n",
              "        vertical-align: middle;\n",
              "    }\n",
              "\n",
              "    .dataframe tbody tr th {\n",
              "        vertical-align: top;\n",
              "    }\n",
              "\n",
              "    .dataframe thead th {\n",
              "        text-align: right;\n",
              "    }\n",
              "</style>\n",
              "<table border=\"1\" class=\"dataframe\">\n",
              "  <thead>\n",
              "    <tr style=\"text-align: right;\">\n",
              "      <th></th>\n",
              "      <th>High</th>\n",
              "      <th>Low</th>\n",
              "      <th>Open</th>\n",
              "      <th>Close</th>\n",
              "      <th>Volume</th>\n",
              "      <th>Adj Close</th>\n",
              "    </tr>\n",
              "    <tr>\n",
              "      <th>Date</th>\n",
              "      <th></th>\n",
              "      <th></th>\n",
              "      <th></th>\n",
              "      <th></th>\n",
              "      <th></th>\n",
              "      <th></th>\n",
              "    </tr>\n",
              "  </thead>\n",
              "  <tbody>\n",
              "    <tr>\n",
              "      <th>2016-08-16</th>\n",
              "      <td>768.729980</td>\n",
              "      <td>763.820007</td>\n",
              "      <td>768.619995</td>\n",
              "      <td>764.039978</td>\n",
              "      <td>1604600</td>\n",
              "      <td>764.039978</td>\n",
              "    </tr>\n",
              "    <tr>\n",
              "      <th>2016-08-17</th>\n",
              "      <td>765.219971</td>\n",
              "      <td>759.200012</td>\n",
              "      <td>764.409973</td>\n",
              "      <td>764.630005</td>\n",
              "      <td>1891100</td>\n",
              "      <td>764.630005</td>\n",
              "    </tr>\n",
              "    <tr>\n",
              "      <th>2016-08-18</th>\n",
              "      <td>765.169983</td>\n",
              "      <td>760.599976</td>\n",
              "      <td>764.000000</td>\n",
              "      <td>764.460022</td>\n",
              "      <td>1458800</td>\n",
              "      <td>764.460022</td>\n",
              "    </tr>\n",
              "    <tr>\n",
              "      <th>2016-08-19</th>\n",
              "      <td>762.489990</td>\n",
              "      <td>756.890015</td>\n",
              "      <td>761.900024</td>\n",
              "      <td>757.309998</td>\n",
              "      <td>2343200</td>\n",
              "      <td>757.309998</td>\n",
              "    </tr>\n",
              "    <tr>\n",
              "      <th>2016-08-22</th>\n",
              "      <td>759.849976</td>\n",
              "      <td>752.099976</td>\n",
              "      <td>757.500000</td>\n",
              "      <td>759.479980</td>\n",
              "      <td>1679300</td>\n",
              "      <td>759.479980</td>\n",
              "    </tr>\n",
              "  </tbody>\n",
              "</table>\n",
              "</div>"
            ],
            "text/plain": [
              "                  High         Low        Open       Close   Volume   Adj Close\n",
              "Date                                                                           \n",
              "2016-08-16  768.729980  763.820007  768.619995  764.039978  1604600  764.039978\n",
              "2016-08-17  765.219971  759.200012  764.409973  764.630005  1891100  764.630005\n",
              "2016-08-18  765.169983  760.599976  764.000000  764.460022  1458800  764.460022\n",
              "2016-08-19  762.489990  756.890015  761.900024  757.309998  2343200  757.309998\n",
              "2016-08-22  759.849976  752.099976  757.500000  759.479980  1679300  759.479980"
            ]
          },
          "metadata": {
            "tags": []
          },
          "execution_count": 31
        }
      ]
    },
    {
      "cell_type": "code",
      "metadata": {
        "id": "Lu9wJepM0jyv"
      },
      "source": [
        "#Adding the column name 'company_name' as 'AMAZON'\n",
        "amazon_df['company_name']=\"AMAZON\" "
      ],
      "execution_count": 32,
      "outputs": []
    },
    {
      "cell_type": "code",
      "metadata": {
        "colab": {
          "base_uri": "https://localhost:8080/",
          "height": 235
        },
        "id": "duDn1Y3T0wTb",
        "outputId": "d0728c89-5fe7-44c8-f138-dd9429b1bd96"
      },
      "source": [
        "amazon_df.head()"
      ],
      "execution_count": 33,
      "outputs": [
        {
          "output_type": "execute_result",
          "data": {
            "text/html": [
              "<div>\n",
              "<style scoped>\n",
              "    .dataframe tbody tr th:only-of-type {\n",
              "        vertical-align: middle;\n",
              "    }\n",
              "\n",
              "    .dataframe tbody tr th {\n",
              "        vertical-align: top;\n",
              "    }\n",
              "\n",
              "    .dataframe thead th {\n",
              "        text-align: right;\n",
              "    }\n",
              "</style>\n",
              "<table border=\"1\" class=\"dataframe\">\n",
              "  <thead>\n",
              "    <tr style=\"text-align: right;\">\n",
              "      <th></th>\n",
              "      <th>High</th>\n",
              "      <th>Low</th>\n",
              "      <th>Open</th>\n",
              "      <th>Close</th>\n",
              "      <th>Volume</th>\n",
              "      <th>Adj Close</th>\n",
              "      <th>company_name</th>\n",
              "    </tr>\n",
              "    <tr>\n",
              "      <th>Date</th>\n",
              "      <th></th>\n",
              "      <th></th>\n",
              "      <th></th>\n",
              "      <th></th>\n",
              "      <th></th>\n",
              "      <th></th>\n",
              "      <th></th>\n",
              "    </tr>\n",
              "  </thead>\n",
              "  <tbody>\n",
              "    <tr>\n",
              "      <th>2016-08-16</th>\n",
              "      <td>768.729980</td>\n",
              "      <td>763.820007</td>\n",
              "      <td>768.619995</td>\n",
              "      <td>764.039978</td>\n",
              "      <td>1604600</td>\n",
              "      <td>764.039978</td>\n",
              "      <td>AMAZON</td>\n",
              "    </tr>\n",
              "    <tr>\n",
              "      <th>2016-08-17</th>\n",
              "      <td>765.219971</td>\n",
              "      <td>759.200012</td>\n",
              "      <td>764.409973</td>\n",
              "      <td>764.630005</td>\n",
              "      <td>1891100</td>\n",
              "      <td>764.630005</td>\n",
              "      <td>AMAZON</td>\n",
              "    </tr>\n",
              "    <tr>\n",
              "      <th>2016-08-18</th>\n",
              "      <td>765.169983</td>\n",
              "      <td>760.599976</td>\n",
              "      <td>764.000000</td>\n",
              "      <td>764.460022</td>\n",
              "      <td>1458800</td>\n",
              "      <td>764.460022</td>\n",
              "      <td>AMAZON</td>\n",
              "    </tr>\n",
              "    <tr>\n",
              "      <th>2016-08-19</th>\n",
              "      <td>762.489990</td>\n",
              "      <td>756.890015</td>\n",
              "      <td>761.900024</td>\n",
              "      <td>757.309998</td>\n",
              "      <td>2343200</td>\n",
              "      <td>757.309998</td>\n",
              "      <td>AMAZON</td>\n",
              "    </tr>\n",
              "    <tr>\n",
              "      <th>2016-08-22</th>\n",
              "      <td>759.849976</td>\n",
              "      <td>752.099976</td>\n",
              "      <td>757.500000</td>\n",
              "      <td>759.479980</td>\n",
              "      <td>1679300</td>\n",
              "      <td>759.479980</td>\n",
              "      <td>AMAZON</td>\n",
              "    </tr>\n",
              "  </tbody>\n",
              "</table>\n",
              "</div>"
            ],
            "text/plain": [
              "                  High         Low  ...   Adj Close  company_name\n",
              "Date                                ...                          \n",
              "2016-08-16  768.729980  763.820007  ...  764.039978        AMAZON\n",
              "2016-08-17  765.219971  759.200012  ...  764.630005        AMAZON\n",
              "2016-08-18  765.169983  760.599976  ...  764.460022        AMAZON\n",
              "2016-08-19  762.489990  756.890015  ...  757.309998        AMAZON\n",
              "2016-08-22  759.849976  752.099976  ...  759.479980        AMAZON\n",
              "\n",
              "[5 rows x 7 columns]"
            ]
          },
          "metadata": {
            "tags": []
          },
          "execution_count": 33
        }
      ]
    },
    {
      "cell_type": "code",
      "metadata": {
        "id": "kiFIeofa1RS7"
      },
      "source": [
        "#Dropping the column 'Adj close'\n",
        "data=amazon_df\n",
        "data=data.drop('Adj Close',axis=1)"
      ],
      "execution_count": 34,
      "outputs": []
    },
    {
      "cell_type": "code",
      "metadata": {
        "colab": {
          "base_uri": "https://localhost:8080/",
          "height": 204
        },
        "id": "4FAFtLHC3bbC",
        "outputId": "f53a4b3c-d35b-4444-b337-afa40fdc8013"
      },
      "source": [
        "data.reset_index(drop=True,inplace=True)\n",
        "data.head()"
      ],
      "execution_count": 35,
      "outputs": [
        {
          "output_type": "execute_result",
          "data": {
            "text/html": [
              "<div>\n",
              "<style scoped>\n",
              "    .dataframe tbody tr th:only-of-type {\n",
              "        vertical-align: middle;\n",
              "    }\n",
              "\n",
              "    .dataframe tbody tr th {\n",
              "        vertical-align: top;\n",
              "    }\n",
              "\n",
              "    .dataframe thead th {\n",
              "        text-align: right;\n",
              "    }\n",
              "</style>\n",
              "<table border=\"1\" class=\"dataframe\">\n",
              "  <thead>\n",
              "    <tr style=\"text-align: right;\">\n",
              "      <th></th>\n",
              "      <th>High</th>\n",
              "      <th>Low</th>\n",
              "      <th>Open</th>\n",
              "      <th>Close</th>\n",
              "      <th>Volume</th>\n",
              "      <th>company_name</th>\n",
              "    </tr>\n",
              "  </thead>\n",
              "  <tbody>\n",
              "    <tr>\n",
              "      <th>0</th>\n",
              "      <td>768.729980</td>\n",
              "      <td>763.820007</td>\n",
              "      <td>768.619995</td>\n",
              "      <td>764.039978</td>\n",
              "      <td>1604600</td>\n",
              "      <td>AMAZON</td>\n",
              "    </tr>\n",
              "    <tr>\n",
              "      <th>1</th>\n",
              "      <td>765.219971</td>\n",
              "      <td>759.200012</td>\n",
              "      <td>764.409973</td>\n",
              "      <td>764.630005</td>\n",
              "      <td>1891100</td>\n",
              "      <td>AMAZON</td>\n",
              "    </tr>\n",
              "    <tr>\n",
              "      <th>2</th>\n",
              "      <td>765.169983</td>\n",
              "      <td>760.599976</td>\n",
              "      <td>764.000000</td>\n",
              "      <td>764.460022</td>\n",
              "      <td>1458800</td>\n",
              "      <td>AMAZON</td>\n",
              "    </tr>\n",
              "    <tr>\n",
              "      <th>3</th>\n",
              "      <td>762.489990</td>\n",
              "      <td>756.890015</td>\n",
              "      <td>761.900024</td>\n",
              "      <td>757.309998</td>\n",
              "      <td>2343200</td>\n",
              "      <td>AMAZON</td>\n",
              "    </tr>\n",
              "    <tr>\n",
              "      <th>4</th>\n",
              "      <td>759.849976</td>\n",
              "      <td>752.099976</td>\n",
              "      <td>757.500000</td>\n",
              "      <td>759.479980</td>\n",
              "      <td>1679300</td>\n",
              "      <td>AMAZON</td>\n",
              "    </tr>\n",
              "  </tbody>\n",
              "</table>\n",
              "</div>"
            ],
            "text/plain": [
              "         High         Low        Open       Close   Volume company_name\n",
              "0  768.729980  763.820007  768.619995  764.039978  1604600       AMAZON\n",
              "1  765.219971  759.200012  764.409973  764.630005  1891100       AMAZON\n",
              "2  765.169983  760.599976  764.000000  764.460022  1458800       AMAZON\n",
              "3  762.489990  756.890015  761.900024  757.309998  2343200       AMAZON\n",
              "4  759.849976  752.099976  757.500000  759.479980  1679300       AMAZON"
            ]
          },
          "metadata": {
            "tags": []
          },
          "execution_count": 35
        }
      ]
    },
    {
      "cell_type": "code",
      "metadata": {
        "colab": {
          "base_uri": "https://localhost:8080/",
          "height": 204
        },
        "id": "h3IqXLIl4GBa",
        "outputId": "9c1956b5-cc56-4d27-bb24-fa39f278b56d"
      },
      "source": [
        "#Dropping the 'company_name' column from the adjclose\n",
        "data=data.drop('company_name',axis=1)\n",
        "data.head()"
      ],
      "execution_count": 36,
      "outputs": [
        {
          "output_type": "execute_result",
          "data": {
            "text/html": [
              "<div>\n",
              "<style scoped>\n",
              "    .dataframe tbody tr th:only-of-type {\n",
              "        vertical-align: middle;\n",
              "    }\n",
              "\n",
              "    .dataframe tbody tr th {\n",
              "        vertical-align: top;\n",
              "    }\n",
              "\n",
              "    .dataframe thead th {\n",
              "        text-align: right;\n",
              "    }\n",
              "</style>\n",
              "<table border=\"1\" class=\"dataframe\">\n",
              "  <thead>\n",
              "    <tr style=\"text-align: right;\">\n",
              "      <th></th>\n",
              "      <th>High</th>\n",
              "      <th>Low</th>\n",
              "      <th>Open</th>\n",
              "      <th>Close</th>\n",
              "      <th>Volume</th>\n",
              "    </tr>\n",
              "  </thead>\n",
              "  <tbody>\n",
              "    <tr>\n",
              "      <th>0</th>\n",
              "      <td>768.729980</td>\n",
              "      <td>763.820007</td>\n",
              "      <td>768.619995</td>\n",
              "      <td>764.039978</td>\n",
              "      <td>1604600</td>\n",
              "    </tr>\n",
              "    <tr>\n",
              "      <th>1</th>\n",
              "      <td>765.219971</td>\n",
              "      <td>759.200012</td>\n",
              "      <td>764.409973</td>\n",
              "      <td>764.630005</td>\n",
              "      <td>1891100</td>\n",
              "    </tr>\n",
              "    <tr>\n",
              "      <th>2</th>\n",
              "      <td>765.169983</td>\n",
              "      <td>760.599976</td>\n",
              "      <td>764.000000</td>\n",
              "      <td>764.460022</td>\n",
              "      <td>1458800</td>\n",
              "    </tr>\n",
              "    <tr>\n",
              "      <th>3</th>\n",
              "      <td>762.489990</td>\n",
              "      <td>756.890015</td>\n",
              "      <td>761.900024</td>\n",
              "      <td>757.309998</td>\n",
              "      <td>2343200</td>\n",
              "    </tr>\n",
              "    <tr>\n",
              "      <th>4</th>\n",
              "      <td>759.849976</td>\n",
              "      <td>752.099976</td>\n",
              "      <td>757.500000</td>\n",
              "      <td>759.479980</td>\n",
              "      <td>1679300</td>\n",
              "    </tr>\n",
              "  </tbody>\n",
              "</table>\n",
              "</div>"
            ],
            "text/plain": [
              "         High         Low        Open       Close   Volume\n",
              "0  768.729980  763.820007  768.619995  764.039978  1604600\n",
              "1  765.219971  759.200012  764.409973  764.630005  1891100\n",
              "2  765.169983  760.599976  764.000000  764.460022  1458800\n",
              "3  762.489990  756.890015  761.900024  757.309998  2343200\n",
              "4  759.849976  752.099976  757.500000  759.479980  1679300"
            ]
          },
          "metadata": {
            "tags": []
          },
          "execution_count": 36
        }
      ]
    },
    {
      "cell_type": "code",
      "metadata": {
        "id": "DaJs3yYJ4XOC"
      },
      "source": [
        "data_X = data.loc[:,data.columns !=  'Close' ]\n",
        "data_Y = data['Close']"
      ],
      "execution_count": 37,
      "outputs": []
    },
    {
      "cell_type": "code",
      "metadata": {
        "id": "zfsuosWo4o0-"
      },
      "source": [
        "train_X, test_X, train_y,test_y = train_test_split(data_X,data_Y,test_size=0.25)"
      ],
      "execution_count": 38,
      "outputs": []
    },
    {
      "cell_type": "code",
      "metadata": {
        "colab": {
          "base_uri": "https://localhost:8080/"
        },
        "id": "kqr6Xzbz5qTR",
        "outputId": "00e2d33b-7cf2-4a4b-ca1d-0cf7b398c2f1"
      },
      "source": [
        "#Linear Regression\n",
        "lreg=LinearRegression()\n",
        "lreg.fit(train_X,train_y)\n",
        "print(lreg.coef_)\n",
        "print(lreg.intercept_)"
      ],
      "execution_count": 39,
      "outputs": [
        {
          "output_type": "stream",
          "text": [
            "[ 8.21176884e-01  7.66571104e-01 -5.88672799e-01 -1.48263833e-07]\n",
            "2.6028033373906965\n"
          ],
          "name": "stdout"
        }
      ]
    },
    {
      "cell_type": "code",
      "metadata": {
        "colab": {
          "base_uri": "https://localhost:8080/"
        },
        "id": "RHsQp44o6Xkn",
        "outputId": "07238ecc-6fd9-4600-9ab5-f0ac6020e321"
      },
      "source": [
        "#Predict the values\n",
        "predict_y=lreg.predict(test_X)\n",
        "print('Prediction Score : ' , lreg.score(test_X,test_y))"
      ],
      "execution_count": 40,
      "outputs": [
        {
          "output_type": "stream",
          "text": [
            "Prediction Score :  0.9997560629935842\n"
          ],
          "name": "stdout"
        }
      ]
    },
    {
      "cell_type": "code",
      "metadata": {
        "colab": {
          "base_uri": "https://localhost:8080/"
        },
        "id": "iM2NAzKX6ozL",
        "outputId": "1cab90e2-e002-4dd2-960e-fa08ba9bb176"
      },
      "source": [
        "#Mean square error\n",
        "error_lreg=mean_squared_error(test_y,predict_y)\n",
        "print('Mean Square Error : ', error_lreg)"
      ],
      "execution_count": 41,
      "outputs": [
        {
          "output_type": "stream",
          "text": [
            "Mean Square Error :  168.0666642726872\n"
          ],
          "name": "stdout"
        }
      ]
    },
    {
      "cell_type": "code",
      "metadata": {
        "colab": {
          "base_uri": "https://localhost:8080/",
          "height": 295
        },
        "id": "6H97frIG7SNL",
        "outputId": "e9a499c2-b290-4db6-8722-34b71a5a1a18"
      },
      "source": [
        "#Plot the predicted and the expected values\n",
        "fig = plt.figure()\n",
        "ax = plt.axes()\n",
        "ax.grid()\n",
        "ax.set(xlabel='Sample',ylabel='Prediction Error (%)', title='Amazon Stock Prediction using Linear Regression')\n",
        "ax.plot(((test_y-predict_y) / test_y)*100 ,marker = 'o',linestyle='')\n",
        "fig.savefig('LRPlot.png')\n",
        "plt.show()"
      ],
      "execution_count": 42,
      "outputs": [
        {
          "output_type": "display_data",
          "data": {
            "image/png": "[encoded data removed]",
            "text/plain": [
              "<Figure size 432x288 with 1 Axes>"
            ]
          },
          "metadata": {
            "tags": [],
            "needs_background": "light"
          }
        }
      ]
    },
    {
      "cell_type": "code",
      "metadata": {
        "colab": {
          "base_uri": "https://localhost:8080/",
          "height": 204
        },
        "id": "1ZZn5bQW8I3l",
        "outputId": "bda7ad00-d58f-4fdb-cee5-6b206f561c43"
      },
      "source": [
        "#Finding the correlation\n",
        "corr = data.corr(method='pearson')\n",
        "corr"
      ],
      "execution_count": 43,
      "outputs": [
        {
          "output_type": "execute_result",
          "data": {
            "text/html": [
              "<div>\n",
              "<style scoped>\n",
              "    .dataframe tbody tr th:only-of-type {\n",
              "        vertical-align: middle;\n",
              "    }\n",
              "\n",
              "    .dataframe tbody tr th {\n",
              "        vertical-align: top;\n",
              "    }\n",
              "\n",
              "    .dataframe thead th {\n",
              "        text-align: right;\n",
              "    }\n",
              "</style>\n",
              "<table border=\"1\" class=\"dataframe\">\n",
              "  <thead>\n",
              "    <tr style=\"text-align: right;\">\n",
              "      <th></th>\n",
              "      <th>High</th>\n",
              "      <th>Low</th>\n",
              "      <th>Open</th>\n",
              "      <th>Close</th>\n",
              "      <th>Volume</th>\n",
              "    </tr>\n",
              "  </thead>\n",
              "  <tbody>\n",
              "    <tr>\n",
              "      <th>High</th>\n",
              "      <td>1.000000</td>\n",
              "      <td>0.999519</td>\n",
              "      <td>0.999702</td>\n",
              "      <td>0.999657</td>\n",
              "      <td>0.040702</td>\n",
              "    </tr>\n",
              "    <tr>\n",
              "      <th>Low</th>\n",
              "      <td>0.999519</td>\n",
              "      <td>1.000000</td>\n",
              "      <td>0.999604</td>\n",
              "      <td>0.999676</td>\n",
              "      <td>0.019544</td>\n",
              "    </tr>\n",
              "    <tr>\n",
              "      <th>Open</th>\n",
              "      <td>0.999702</td>\n",
              "      <td>0.999604</td>\n",
              "      <td>1.000000</td>\n",
              "      <td>0.999288</td>\n",
              "      <td>0.031962</td>\n",
              "    </tr>\n",
              "    <tr>\n",
              "      <th>Close</th>\n",
              "      <td>0.999657</td>\n",
              "      <td>0.999676</td>\n",
              "      <td>0.999288</td>\n",
              "      <td>1.000000</td>\n",
              "      <td>0.029746</td>\n",
              "    </tr>\n",
              "    <tr>\n",
              "      <th>Volume</th>\n",
              "      <td>0.040702</td>\n",
              "      <td>0.019544</td>\n",
              "      <td>0.031962</td>\n",
              "      <td>0.029746</td>\n",
              "      <td>1.000000</td>\n",
              "    </tr>\n",
              "  </tbody>\n",
              "</table>\n",
              "</div>"
            ],
            "text/plain": [
              "            High       Low      Open     Close    Volume\n",
              "High    1.000000  0.999519  0.999702  0.999657  0.040702\n",
              "Low     0.999519  1.000000  0.999604  0.999676  0.019544\n",
              "Open    0.999702  0.999604  1.000000  0.999288  0.031962\n",
              "Close   0.999657  0.999676  0.999288  1.000000  0.029746\n",
              "Volume  0.040702  0.019544  0.031962  0.029746  1.000000"
            ]
          },
          "metadata": {
            "tags": []
          },
          "execution_count": 43
        }
      ]
    },
    {
      "cell_type": "code",
      "metadata": {
        "colab": {
          "base_uri": "https://localhost:8080/"
        },
        "id": "Uv_LVwIU8MMB",
        "outputId": "198902fd-6eec-4713-9aa8-59230dd24bc5"
      },
      "source": [
        "data = data.drop(['High','Low'],axis=1)\n",
        "print(data)"
      ],
      "execution_count": 44,
      "outputs": [
        {
          "output_type": "stream",
          "text": [
            "             Open        Close   Volume\n",
            "0      768.619995   764.039978  1604600\n",
            "1      764.409973   764.630005  1891100\n",
            "2      764.000000   764.460022  1458800\n",
            "3      761.900024   757.309998  2343200\n",
            "4      757.500000   759.479980  1679300\n",
            "...           ...          ...      ...\n",
            "1253  3343.610107  3341.870117  2148200\n",
            "1254  3345.010010  3320.679932  2412600\n",
            "1255  3331.449951  3292.110107  2947200\n",
            "1256  3290.000000  3303.500000  2314100\n",
            "1257  3305.669922  3293.969971  2052800\n",
            "\n",
            "[1258 rows x 3 columns]\n"
          ],
          "name": "stdout"
        }
      ]
    },
    {
      "cell_type": "code",
      "metadata": {
        "colab": {
          "base_uri": "https://localhost:8080/"
        },
        "id": "EWU5tGcF8uaN",
        "outputId": "480e04c2-afd3-45b7-e992-63241197c231"
      },
      "source": [
        "data_X = data.loc[:,data.columns !=  'Close' ]\n",
        "data_Y = data['Close']\n",
        "train_X, test_X, train_y,test_y = train_test_split(data_X,data_Y,test_size=0.25)\n",
        "regressor = LinearRegression()\n",
        "\n",
        "#Feature scaling is present here as inbuilt feature\n",
        "regressor.fit(train_X,train_y)\n",
        "predict_y = regressor.predict(test_X)\n",
        "print('Prediction Score : ' , regressor.score(test_X,test_y))\n",
        "error = mean_squared_error(test_y,predict_y)\n",
        "print('Mean Squared Error : ',error)\n",
        "print(np.mean(np.abs((test_y - predict_y) / test_y)) * 100)"
      ],
      "execution_count": 45,
      "outputs": [
        {
          "output_type": "stream",
          "text": [
            "Prediction Score :  0.998488497504513\n",
            "Mean Squared Error :  1048.5377247321608\n",
            "1.051206899044476\n"
          ],
          "name": "stdout"
        }
      ]
    },
    {
      "cell_type": "code",
      "metadata": {
        "id": "jwwuqAG8JmZk",
        "outputId": "38aeb137-f8d6-467a-8e73-276c6f99efa2",
        "colab": {
          "base_uri": "https://localhost:8080/",
          "height": 776
        }
      },
      "source": [
        "plt.figure(figsize=(16,8))\n",
        "plt.title('Multi Linear Regression Model')\n",
        "plt.xlabel('Sample',fontsize=18)\n",
        "plt.ylabel('Close Price USD($)',fontsize=18)\n",
        "print(regressor.coef_)\n",
        "print(regressor.intercept_)\n",
        "print(data['Close'])\n",
        "close_pred = []\n",
        "actual_val = []\n",
        "\n",
        "for i in range(len(data_X)):\n",
        "    val = data_X['Open'][i]* regressor.coef_[0] - data_X['Volume'][i] * regressor.coef_[1] + regressor.intercept_ \n",
        "    close_pred.append(val)\n",
        "    actual_val.append(data_Y[i])\n",
        "\n",
        "plt.plot(actual_val)\n",
        "plt.plot(close_pred)\n",
        "plt.legend(['True Value','Predicted Value'])"
      ],
      "execution_count": 46,
      "outputs": [
        {
          "output_type": "stream",
          "text": [
            "[ 9.98247507e-01 -1.00932150e-06]\n",
            "7.191511961344759\n",
            "0        764.039978\n",
            "1        764.630005\n",
            "2        764.460022\n",
            "3        757.309998\n",
            "4        759.479980\n",
            "           ...     \n",
            "1253    3341.870117\n",
            "1254    3320.679932\n",
            "1255    3292.110107\n",
            "1256    3303.500000\n",
            "1257    3293.969971\n",
            "Name: Close, Length: 1258, dtype: float64\n"
          ],
          "name": "stdout"
        },
        {
          "output_type": "execute_result",
          "data": {
            "text/plain": [
              "<matplotlib.legend.Legend at 0x7f70b0812b90>"
            ]
          },
          "metadata": {
            "tags": []
          },
          "execution_count": 46
        },
        {
          "output_type": "display_data",
          "data": {
            "image/png": "[encoded data removed]",
            "text/plain": [
              "<Figure size 1152x576 with 1 Axes>"
            ]
          },
          "metadata": {
            "tags": [],
            "needs_background": "light"
          }
        }
      ]
    }
  ]
}