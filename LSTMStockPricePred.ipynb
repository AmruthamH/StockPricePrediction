{
  "nbformat": 4,
  "nbformat_minor": 0,
  "metadata": {
    "colab": {
      "name": "LSTMStockPricePred",
      "provenance": [],
      "collapsed_sections": []
    },
    "kernelspec": {
      "name": "python3",
      "display_name": "Python 3"
    },
    "language_info": {
      "name": "python"
    }
  },
  "cells": [
    {
      "cell_type": "markdown",
      "metadata": {
        "id": "hTQbyqSjL0l6"
      },
      "source": [
        "**Long Short Term Memory model**\n",
        "\n"
      ]
    },
    {
      "cell_type": "code",
      "metadata": {
        "colab": {
          "base_uri": "https://localhost:8080/",
          "height": 838
        },
        "id": "zHKHf6bEQEnB",
        "outputId": "5d25b91f-c37b-47e1-de08-fa2999744834"
      },
      "source": [
        "!pip install --upgrade pandas \n",
        "!pip install --upgrade pandas-datareader"
      ],
      "execution_count": 5,
      "outputs": [
        {
          "output_type": "stream",
          "text": [
            "Requirement already satisfied: pandas in /usr/local/lib/python3.7/dist-packages (1.1.5)\n",
            "Collecting pandas\n",
            "  Downloading pandas-1.3.2-cp37-cp37m-manylinux_2_17_x86_64.manylinux2014_x86_64.whl (11.3 MB)\n",
            "\u001b[K     |████████████████████████████████| 11.3 MB 29.8 MB/s \n",
            "\u001b[?25hRequirement already satisfied: numpy>=1.17.3 in /usr/local/lib/python3.7/dist-packages (from pandas) (1.19.5)\n",
            "Requirement already satisfied: python-dateutil>=2.7.3 in /usr/local/lib/python3.7/dist-packages (from pandas) (2.8.2)\n",
            "Requirement already satisfied: pytz>=2017.3 in /usr/local/lib/python3.7/dist-packages (from pandas) (2018.9)\n",
            "Requirement already satisfied: six>=1.5 in /usr/local/lib/python3.7/dist-packages (from python-dateutil>=2.7.3->pandas) (1.15.0)\n",
            "Installing collected packages: pandas\n",
            "  Attempting uninstall: pandas\n",
            "    Found existing installation: pandas 1.1.5\n",
            "    Uninstalling pandas-1.1.5:\n",
            "      Successfully uninstalled pandas-1.1.5\n",
            "\u001b[31mERROR: pip's dependency resolver does not currently take into account all the packages that are installed. This behaviour is the source of the following dependency conflicts.\n",
            "google-colab 1.0.0 requires pandas~=1.1.0; python_version >= \"3.0\", but you have pandas 1.3.2 which is incompatible.\u001b[0m\n",
            "Successfully installed pandas-1.3.2\n"
          ],
          "name": "stdout"
        },
        {
          "output_type": "display_data",
          "data": {
            "application/vnd.colab-display-data+json": {
              "pip_warning": {
                "packages": [
                  "pandas"
                ]
              }
            }
          },
          "metadata": {
            "tags": []
          }
        },
        {
          "output_type": "stream",
          "text": [
            "Requirement already satisfied: pandas-datareader in /usr/local/lib/python3.7/dist-packages (0.9.0)\n",
            "Collecting pandas-datareader\n",
            "  Downloading pandas_datareader-0.10.0-py3-none-any.whl (109 kB)\n",
            "\u001b[K     |████████████████████████████████| 109 kB 32.1 MB/s \n",
            "\u001b[?25hRequirement already satisfied: lxml in /usr/local/lib/python3.7/dist-packages (from pandas-datareader) (4.2.6)\n",
            "Requirement already satisfied: pandas>=0.23 in /usr/local/lib/python3.7/dist-packages (from pandas-datareader) (1.3.2)\n",
            "Requirement already satisfied: requests>=2.19.0 in /usr/local/lib/python3.7/dist-packages (from pandas-datareader) (2.23.0)\n",
            "Requirement already satisfied: python-dateutil>=2.7.3 in /usr/local/lib/python3.7/dist-packages (from pandas>=0.23->pandas-datareader) (2.8.2)\n",
            "Requirement already satisfied: pytz>=2017.3 in /usr/local/lib/python3.7/dist-packages (from pandas>=0.23->pandas-datareader) (2018.9)\n",
            "Requirement already satisfied: numpy>=1.17.3 in /usr/local/lib/python3.7/dist-packages (from pandas>=0.23->pandas-datareader) (1.19.5)\n",
            "Requirement already satisfied: six>=1.5 in /usr/local/lib/python3.7/dist-packages (from python-dateutil>=2.7.3->pandas>=0.23->pandas-datareader) (1.15.0)\n",
            "Requirement already satisfied: urllib3!=1.25.0,!=1.25.1,<1.26,>=1.21.1 in /usr/local/lib/python3.7/dist-packages (from requests>=2.19.0->pandas-datareader) (1.24.3)\n",
            "Requirement already satisfied: idna<3,>=2.5 in /usr/local/lib/python3.7/dist-packages (from requests>=2.19.0->pandas-datareader) (2.10)\n",
            "Requirement already satisfied: certifi>=2017.4.17 in /usr/local/lib/python3.7/dist-packages (from requests>=2.19.0->pandas-datareader) (2021.5.30)\n",
            "Requirement already satisfied: chardet<4,>=3.0.2 in /usr/local/lib/python3.7/dist-packages (from requests>=2.19.0->pandas-datareader) (3.0.4)\n",
            "Installing collected packages: pandas-datareader\n",
            "  Attempting uninstall: pandas-datareader\n",
            "    Found existing installation: pandas-datareader 0.9.0\n",
            "    Uninstalling pandas-datareader-0.9.0:\n",
            "      Successfully uninstalled pandas-datareader-0.9.0\n",
            "Successfully installed pandas-datareader-0.10.0\n"
          ],
          "name": "stdout"
        },
        {
          "output_type": "display_data",
          "data": {
            "application/vnd.colab-display-data+json": {
              "pip_warning": {
                "packages": [
                  "pandas_datareader"
                ]
              }
            }
          },
          "metadata": {
            "tags": []
          }
        }
      ]
    },
    {
      "cell_type": "code",
      "metadata": {
        "id": "fOhlmK0zNDBP"
      },
      "source": [
        "#Importing libraries\n",
        "\n",
        "#For fast numerical operations on matrices\n",
        "import numpy as np\n",
        "\n",
        "#For dataframes\n",
        "import pandas as pd\n",
        "\n",
        "#Linear regression library\n",
        "from sklearn.model_selection import train_test_split\n",
        "from sklearn.linear_model import LinearRegression\n",
        "from sklearn.preprocessing import LabelEncoder\n",
        "from sklearn.metrics import mean_squared_error\n",
        "\n",
        "#Plotting tool\n",
        "import matplotlib.pyplot as plt\n",
        "\n",
        "\n",
        "#date time\n",
        "from datetime import datetime \n",
        "\n",
        "# For reading stock data from yahoo\n",
        "from pandas_datareader import data\n"
      ],
      "execution_count": 1,
      "outputs": []
    },
    {
      "cell_type": "code",
      "metadata": {
        "id": "8viJNHI-Ljin"
      },
      "source": [
        "import math\n",
        "\n",
        "from sklearn.preprocessing import MinMaxScaler\n",
        "from keras.models import Sequential\n",
        "from keras.layers import Dense,LSTM\n",
        "from tensorflow.python.ops.math_ops import reduce_prod\n",
        "\n",
        "plt.style.use('fivethirtyeight')"
      ],
      "execution_count": 2,
      "outputs": []
    },
    {
      "cell_type": "code",
      "metadata": {
        "id": "vBoCDSEeMFLk"
      },
      "source": [
        "#Get the stock quote\n",
        "amazon_df = data.DataReader('AMZN',data_source='yahoo',start='2012-08-15', end='2021-08-15')"
      ],
      "execution_count": 3,
      "outputs": []
    },
    {
      "cell_type": "code",
      "metadata": {
        "colab": {
          "base_uri": "https://localhost:8080/",
          "height": 235
        },
        "id": "k3sDTpegP-LO",
        "outputId": "102ad0d2-6c27-4a85-866e-3922d862f348"
      },
      "source": [
        "#Show the data\n",
        "amazon_df.head()"
      ],
      "execution_count": 4,
      "outputs": [
        {
          "output_type": "execute_result",
          "data": {
            "text/html": [
              "<div>\n",
              "<style scoped>\n",
              "    .dataframe tbody tr th:only-of-type {\n",
              "        vertical-align: middle;\n",
              "    }\n",
              "\n",
              "    .dataframe tbody tr th {\n",
              "        vertical-align: top;\n",
              "    }\n",
              "\n",
              "    .dataframe thead th {\n",
              "        text-align: right;\n",
              "    }\n",
              "</style>\n",
              "<table border=\"1\" class=\"dataframe\">\n",
              "  <thead>\n",
              "    <tr style=\"text-align: right;\">\n",
              "      <th></th>\n",
              "      <th>High</th>\n",
              "      <th>Low</th>\n",
              "      <th>Open</th>\n",
              "      <th>Close</th>\n",
              "      <th>Volume</th>\n",
              "      <th>Adj Close</th>\n",
              "    </tr>\n",
              "    <tr>\n",
              "      <th>Date</th>\n",
              "      <th></th>\n",
              "      <th></th>\n",
              "      <th></th>\n",
              "      <th></th>\n",
              "      <th></th>\n",
              "      <th></th>\n",
              "    </tr>\n",
              "  </thead>\n",
              "  <tbody>\n",
              "    <tr>\n",
              "      <th>2012-08-15</th>\n",
              "      <td>238.139999</td>\n",
              "      <td>232.250000</td>\n",
              "      <td>232.259995</td>\n",
              "      <td>237.419998</td>\n",
              "      <td>3264700</td>\n",
              "      <td>237.419998</td>\n",
              "    </tr>\n",
              "    <tr>\n",
              "      <th>2012-08-16</th>\n",
              "      <td>242.820007</td>\n",
              "      <td>236.199997</td>\n",
              "      <td>237.720001</td>\n",
              "      <td>241.550003</td>\n",
              "      <td>4312100</td>\n",
              "      <td>241.550003</td>\n",
              "    </tr>\n",
              "    <tr>\n",
              "      <th>2012-08-17</th>\n",
              "      <td>243.350006</td>\n",
              "      <td>240.470001</td>\n",
              "      <td>240.600006</td>\n",
              "      <td>241.169998</td>\n",
              "      <td>3085800</td>\n",
              "      <td>241.169998</td>\n",
              "    </tr>\n",
              "    <tr>\n",
              "      <th>2012-08-20</th>\n",
              "      <td>241.649994</td>\n",
              "      <td>238.199997</td>\n",
              "      <td>241.369995</td>\n",
              "      <td>240.350006</td>\n",
              "      <td>1889900</td>\n",
              "      <td>240.350006</td>\n",
              "    </tr>\n",
              "    <tr>\n",
              "      <th>2012-08-21</th>\n",
              "      <td>243.850006</td>\n",
              "      <td>238.550003</td>\n",
              "      <td>240.880005</td>\n",
              "      <td>239.449997</td>\n",
              "      <td>2571500</td>\n",
              "      <td>239.449997</td>\n",
              "    </tr>\n",
              "  </tbody>\n",
              "</table>\n",
              "</div>"
            ],
            "text/plain": [
              "                  High         Low        Open       Close   Volume   Adj Close\n",
              "Date                                                                           \n",
              "2012-08-15  238.139999  232.250000  232.259995  237.419998  3264700  237.419998\n",
              "2012-08-16  242.820007  236.199997  237.720001  241.550003  4312100  241.550003\n",
              "2012-08-17  243.350006  240.470001  240.600006  241.169998  3085800  241.169998\n",
              "2012-08-20  241.649994  238.199997  241.369995  240.350006  1889900  240.350006\n",
              "2012-08-21  243.850006  238.550003  240.880005  239.449997  2571500  239.449997"
            ]
          },
          "metadata": {
            "tags": []
          },
          "execution_count": 4
        }
      ]
    },
    {
      "cell_type": "code",
      "metadata": {
        "colab": {
          "base_uri": "https://localhost:8080/"
        },
        "id": "xT0QEZRlQQ60",
        "outputId": "2ab21723-3f4f-4ecf-9767-a4bcc23decf3"
      },
      "source": [
        "amazon_df.shape"
      ],
      "execution_count": 4,
      "outputs": [
        {
          "output_type": "execute_result",
          "data": {
            "text/plain": [
              "(2264, 6)"
            ]
          },
          "metadata": {
            "tags": []
          },
          "execution_count": 4
        }
      ]
    },
    {
      "cell_type": "code",
      "metadata": {
        "colab": {
          "base_uri": "https://localhost:8080/",
          "height": 558
        },
        "id": "60hDNYIKQYbn",
        "outputId": "6e64d417-b42d-4674-8a8c-eec6e2c51708"
      },
      "source": [
        "#Visualize the closing price history\n",
        "plt.figure(figsize=(16,8))\n",
        "plt.title('Closing Price History')\n",
        "plt.plot(amazon_df['Close'])\n",
        "plt.xlabel('Date',fontsize=18)\n",
        "plt.ylabel('Closing Price USD ($)',fontsize=18)\n",
        "plt.show()"
      ],
      "execution_count": 5,
      "outputs": [
        {
          "output_type": "display_data",
          "data": {
            "image/png": "[encoded data removed]",
            "text/plain": [
              "<Figure size 1152x576 with 1 Axes>"
            ]
          },
          "metadata": {
            "tags": []
          }
        }
      ]
    },
    {
      "cell_type": "code",
      "metadata": {
        "colab": {
          "base_uri": "https://localhost:8080/",
          "height": 235
        },
        "id": "OD9sZ36SQlUx",
        "outputId": "302ca94a-5eb6-4a71-a5b0-ff48647223d7"
      },
      "source": [
        "#Create a new data frame with only the close column\n",
        "close_df=amazon_df.filter(['Close'])\n",
        "close_df.head()"
      ],
      "execution_count": 6,
      "outputs": [
        {
          "output_type": "execute_result",
          "data": {
            "text/html": [
              "<div>\n",
              "<style scoped>\n",
              "    .dataframe tbody tr th:only-of-type {\n",
              "        vertical-align: middle;\n",
              "    }\n",
              "\n",
              "    .dataframe tbody tr th {\n",
              "        vertical-align: top;\n",
              "    }\n",
              "\n",
              "    .dataframe thead th {\n",
              "        text-align: right;\n",
              "    }\n",
              "</style>\n",
              "<table border=\"1\" class=\"dataframe\">\n",
              "  <thead>\n",
              "    <tr style=\"text-align: right;\">\n",
              "      <th></th>\n",
              "      <th>Close</th>\n",
              "    </tr>\n",
              "    <tr>\n",
              "      <th>Date</th>\n",
              "      <th></th>\n",
              "    </tr>\n",
              "  </thead>\n",
              "  <tbody>\n",
              "    <tr>\n",
              "      <th>2012-08-15</th>\n",
              "      <td>237.419998</td>\n",
              "    </tr>\n",
              "    <tr>\n",
              "      <th>2012-08-16</th>\n",
              "      <td>241.550003</td>\n",
              "    </tr>\n",
              "    <tr>\n",
              "      <th>2012-08-17</th>\n",
              "      <td>241.169998</td>\n",
              "    </tr>\n",
              "    <tr>\n",
              "      <th>2012-08-20</th>\n",
              "      <td>240.350006</td>\n",
              "    </tr>\n",
              "    <tr>\n",
              "      <th>2012-08-21</th>\n",
              "      <td>239.449997</td>\n",
              "    </tr>\n",
              "  </tbody>\n",
              "</table>\n",
              "</div>"
            ],
            "text/plain": [
              "                 Close\n",
              "Date                  \n",
              "2012-08-15  237.419998\n",
              "2012-08-16  241.550003\n",
              "2012-08-17  241.169998\n",
              "2012-08-20  240.350006\n",
              "2012-08-21  239.449997"
            ]
          },
          "metadata": {
            "tags": []
          },
          "execution_count": 6
        }
      ]
    },
    {
      "cell_type": "code",
      "metadata": {
        "colab": {
          "base_uri": "https://localhost:8080/"
        },
        "id": "XoKFO0YtRft3",
        "outputId": "a257fee3-b5d0-4844-e2f9-0f535d2ab3d6"
      },
      "source": [
        "#Convert the dataframe to a numpy array\n",
        "numarr = close_df.values\n",
        "#Get the number of rows to train the model on\n",
        "training_data_len = math.ceil(len(numarr) * 0.8)\n",
        "training_data_len"
      ],
      "execution_count": 7,
      "outputs": [
        {
          "output_type": "execute_result",
          "data": {
            "text/plain": [
              "1812"
            ]
          },
          "metadata": {
            "tags": []
          },
          "execution_count": 7
        }
      ]
    },
    {
      "cell_type": "code",
      "metadata": {
        "colab": {
          "base_uri": "https://localhost:8080/"
        },
        "id": "9wzQayI2R0PN",
        "outputId": "d1c8883e-b70a-44d4-fa8a-14652ee49819"
      },
      "source": [
        "#Scale the data\n",
        "scaler = MinMaxScaler(feature_range=(0,1))\n",
        "scaled_data = scaler.fit_transform(numarr)\n",
        "\n",
        "scaled_data"
      ],
      "execution_count": 8,
      "outputs": [
        {
          "output_type": "execute_result",
          "data": {
            "text/plain": [
              "array([[0.00479092],\n",
              "       [0.00596728],\n",
              "       [0.00585904],\n",
              "       ...,\n",
              "       [0.87487223],\n",
              "       [0.87811647],\n",
              "       [0.87540199]])"
            ]
          },
          "metadata": {
            "tags": []
          },
          "execution_count": 8
        }
      ]
    },
    {
      "cell_type": "code",
      "metadata": {
        "id": "hUBERtoYR3dR"
      },
      "source": [
        "#Create the training data set\n",
        "#Create the scaled training data set\n",
        "train_data = scaled_data[0:training_data_len,:]\n",
        "#Split the data into x_train and y_train data sets\n",
        "x_train = []\n",
        "y_train = []\n",
        "\n",
        "past_steps = 45\n",
        "\n",
        "for i in range(past_steps,len(train_data)):\n",
        "    x_train.append(train_data[i-past_steps:i,0])\n",
        "    y_train.append(train_data[i,0])"
      ],
      "execution_count": 9,
      "outputs": []
    },
    {
      "cell_type": "code",
      "metadata": {
        "id": "AtAZeCjAyGmF"
      },
      "source": [
        "#Convert the x_train and y_train to numpy arrays\n",
        "\n",
        "x_train, y_train = np.array(x_train), np.array(y_train)"
      ],
      "execution_count": 10,
      "outputs": []
    },
    {
      "cell_type": "code",
      "metadata": {
        "id": "gN7fXh29yIxe",
        "outputId": "0765df5c-0651-4b90-8fc8-a7d6740a2549",
        "colab": {
          "base_uri": "https://localhost:8080/"
        }
      },
      "source": [
        "#Reshape the data\n",
        "x_train = np.reshape(x_train,(x_train.shape[0],x_train.shape[1],1))\n",
        "x_train.shape"
      ],
      "execution_count": 11,
      "outputs": [
        {
          "output_type": "execute_result",
          "data": {
            "text/plain": [
              "(1767, 45, 1)"
            ]
          },
          "metadata": {
            "tags": []
          },
          "execution_count": 11
        }
      ]
    },
    {
      "cell_type": "code",
      "metadata": {
        "id": "Fk9jGfRkyPwn",
        "outputId": "fcb73d82-271c-43df-9ca6-98d22f319e5c",
        "colab": {
          "base_uri": "https://localhost:8080/"
        }
      },
      "source": [
        "model = Sequential()\n",
        "model.add(LSTM(50,return_sequences=False,input_shape= (past_steps,1)))\n",
        "model.add(Dense(25))\n",
        "model.add(Dense(1))\n",
        "model.summary()"
      ],
      "execution_count": 12,
      "outputs": [
        {
          "output_type": "stream",
          "text": [
            "Model: \"sequential\"\n",
            "_________________________________________________________________\n",
            "Layer (type)                 Output Shape              Param #   \n",
            "=================================================================\n",
            "lstm (LSTM)                  (None, 50)                10400     \n",
            "_________________________________________________________________\n",
            "dense (Dense)                (None, 25)                1275      \n",
            "_________________________________________________________________\n",
            "dense_1 (Dense)              (None, 1)                 26        \n",
            "=================================================================\n",
            "Total params: 11,701\n",
            "Trainable params: 11,701\n",
            "Non-trainable params: 0\n",
            "_________________________________________________________________\n"
          ],
          "name": "stdout"
        }
      ]
    },
    {
      "cell_type": "code",
      "metadata": {
        "id": "PYPsrpvcySud"
      },
      "source": [
        "#Compile the model\n",
        "model.compile(optimizer='adam',loss='mean_squared_error')"
      ],
      "execution_count": 13,
      "outputs": []
    },
    {
      "cell_type": "code",
      "metadata": {
        "id": "YXrwTn12yVF1",
        "outputId": "97dd56da-cab9-4c80-e097-60f16f025ea9",
        "colab": {
          "base_uri": "https://localhost:8080/"
        }
      },
      "source": [
        "#Train the model\n",
        "model.fit(x_train,y_train,batch_size=1,epochs=1)"
      ],
      "execution_count": 14,
      "outputs": [
        {
          "output_type": "stream",
          "text": [
            "1767/1767 [==============================] - 34s 9ms/step - loss: 0.0025\n"
          ],
          "name": "stdout"
        },
        {
          "output_type": "execute_result",
          "data": {
            "text/plain": [
              "<keras.callbacks.History at 0x7f2b286c24d0>"
            ]
          },
          "metadata": {
            "tags": []
          },
          "execution_count": 14
        }
      ]
    },
    {
      "cell_type": "code",
      "metadata": {
        "id": "BhiDYMGCyeiT"
      },
      "source": [
        "#Create the testog dataaset\n",
        "#Crate a new array containing scaled values from index 1543 to 2003\n",
        "test_data = scaled_data[training_data_len-past_steps:,:]\n",
        "#Create the data sets x_test and y_Test\n",
        "x_test = []\n",
        "y_test = numarr[training_data_len:,:]\n",
        "for i in range(past_steps,len(test_data)):\n",
        "    x_test.append(test_data[i-past_steps:i,0])"
      ],
      "execution_count": 16,
      "outputs": []
    },
    {
      "cell_type": "code",
      "metadata": {
        "id": "fhlrBxVryhfA"
      },
      "source": [
        "#Convert data into a numpy array\n",
        "x_test = np.array(x_test)\n",
        "\n",
        "#Reshape the data\n",
        "x_test = np.reshape(x_test,(x_test.shape[0],x_test.shape[1],1))"
      ],
      "execution_count": 17,
      "outputs": []
    },
    {
      "cell_type": "code",
      "metadata": {
        "id": "gRb0iLuFynjK"
      },
      "source": [
        "#Get the models predicted price values\n",
        "predictions = model.predict(x_test)\n",
        "#predictions\n",
        "predictions = scaler.inverse_transform(predictions)\n",
        "#predictions"
      ],
      "execution_count": 18,
      "outputs": []
    },
    {
      "cell_type": "code",
      "metadata": {
        "id": "QOzhOY2gyp26",
        "outputId": "de142b2e-40ab-4348-acf2-e74dcaf7bf12",
        "colab": {
          "base_uri": "https://localhost:8080/"
        }
      },
      "source": [
        "#Get the rms error\n",
        "rmse=np.sqrt(np.mean(predictions- y_test)**2)\n",
        "rmse"
      ],
      "execution_count": 19,
      "outputs": [
        {
          "output_type": "execute_result",
          "data": {
            "text/plain": [
              "120.43585448138482"
            ]
          },
          "metadata": {
            "tags": []
          },
          "execution_count": 19
        }
      ]
    },
    {
      "cell_type": "code",
      "metadata": {
        "id": "Glo7sIztysM2",
        "outputId": "3d892d6d-55a2-4c30-8d98-b750a876115a",
        "colab": {
          "base_uri": "https://localhost:8080/"
        }
      },
      "source": [
        "# Using MAPE error metrics to check for the error rate and accuracy level\n",
        "#from sklearn.metrics import mean_absolute_error\n",
        "y_test_1d = y_test.flatten()\n",
        "predictions_1d = predictions.flatten()\n",
        "\n",
        "\n",
        "val = 0\n",
        "\n",
        "for i in range(len(y_test_1d)):\n",
        "    val += abs((y_test_1d[i]-predictions[i])/y_test_1d[i])\n",
        "\n",
        "\n",
        "print((val/len(y_test_1d)) * 100)"
      ],
      "execution_count": 20,
      "outputs": [
        {
          "output_type": "stream",
          "text": [
            "[4.3097453]\n"
          ],
          "name": "stdout"
        }
      ]
    },
    {
      "cell_type": "code",
      "metadata": {
        "id": "GBwmEEHKyugR",
        "outputId": "fd926b5d-6db4-47c8-cd6f-e7d4d41d342f",
        "colab": {
          "base_uri": "https://localhost:8080/",
          "height": 677
        }
      },
      "source": [
        "#Plot the data\n",
        "train = close_df[:training_data_len]\n",
        "valid = close_df[training_data_len:]\n",
        "valid['Predictions'] = predictions\n",
        "\n",
        "#Visualize the data\n",
        "plt.figure(figsize=(16,8))\n",
        "plt.title('LSTM Model')\n",
        "plt.xlabel('Date',fontsize=18)\n",
        "plt.ylabel('Close Price USD($)',fontsize=18)\n",
        "plt.plot(train['Close'])\n",
        "plt.plot(valid[['Close','Predictions']])\n",
        "plt.legend(['Training','Validation','Predictions'],loc='lower right')\n",
        "plt.show"
      ],
      "execution_count": 22,
      "outputs": [
        {
          "output_type": "stream",
          "text": [
            "/usr/local/lib/python3.7/dist-packages/ipykernel_launcher.py:4: SettingWithCopyWarning: \n",
            "A value is trying to be set on a copy of a slice from a DataFrame.\n",
            "Try using .loc[row_indexer,col_indexer] = value instead\n",
            "\n",
            "See the caveats in the documentation: https://pandas.pydata.org/pandas-docs/stable/user_guide/indexing.html#returning-a-view-versus-a-copy\n",
            "  after removing the cwd from sys.path.\n"
          ],
          "name": "stderr"
        },
        {
          "output_type": "execute_result",
          "data": {
            "text/plain": [
              "<function matplotlib.pyplot.show>"
            ]
          },
          "metadata": {
            "tags": []
          },
          "execution_count": 22
        },
        {
          "output_type": "display_data",
          "data": {
            "image/png": "[encoded data removed]",
            "text/plain": [
              "<Figure size 1152x576 with 1 Axes>"
            ]
          },
          "metadata": {
            "tags": []
          }
        }
      ]
    },
    {
      "cell_type": "code",
      "metadata": {
        "id": "gTsAbuX1y9Hz",
        "outputId": "40dc4396-3442-4dea-9ad5-1659d5c7bd53",
        "colab": {
          "base_uri": "https://localhost:8080/",
          "height": 450
        }
      },
      "source": [
        "valid"
      ],
      "execution_count": 23,
      "outputs": [
        {
          "output_type": "execute_result",
          "data": {
            "text/html": [
              "<div>\n",
              "<style scoped>\n",
              "    .dataframe tbody tr th:only-of-type {\n",
              "        vertical-align: middle;\n",
              "    }\n",
              "\n",
              "    .dataframe tbody tr th {\n",
              "        vertical-align: top;\n",
              "    }\n",
              "\n",
              "    .dataframe thead th {\n",
              "        text-align: right;\n",
              "    }\n",
              "</style>\n",
              "<table border=\"1\" class=\"dataframe\">\n",
              "  <thead>\n",
              "    <tr style=\"text-align: right;\">\n",
              "      <th></th>\n",
              "      <th>Close</th>\n",
              "      <th>Predictions</th>\n",
              "    </tr>\n",
              "    <tr>\n",
              "      <th>Date</th>\n",
              "      <th></th>\n",
              "      <th></th>\n",
              "    </tr>\n",
              "  </thead>\n",
              "  <tbody>\n",
              "    <tr>\n",
              "      <th>2019-10-29</th>\n",
              "      <td>1762.709961</td>\n",
              "      <td>1742.516724</td>\n",
              "    </tr>\n",
              "    <tr>\n",
              "      <th>2019-10-30</th>\n",
              "      <td>1779.989990</td>\n",
              "      <td>1741.190186</td>\n",
              "    </tr>\n",
              "    <tr>\n",
              "      <th>2019-10-31</th>\n",
              "      <td>1776.660034</td>\n",
              "      <td>1743.622681</td>\n",
              "    </tr>\n",
              "    <tr>\n",
              "      <th>2019-11-01</th>\n",
              "      <td>1791.439941</td>\n",
              "      <td>1744.898193</td>\n",
              "    </tr>\n",
              "    <tr>\n",
              "      <th>2019-11-04</th>\n",
              "      <td>1804.660034</td>\n",
              "      <td>1749.005371</td>\n",
              "    </tr>\n",
              "    <tr>\n",
              "      <th>...</th>\n",
              "      <td>...</td>\n",
              "      <td>...</td>\n",
              "    </tr>\n",
              "    <tr>\n",
              "      <th>2021-08-09</th>\n",
              "      <td>3341.870117</td>\n",
              "      <td>3229.920898</td>\n",
              "    </tr>\n",
              "    <tr>\n",
              "      <th>2021-08-10</th>\n",
              "      <td>3320.679932</td>\n",
              "      <td>3215.746826</td>\n",
              "    </tr>\n",
              "    <tr>\n",
              "      <th>2021-08-11</th>\n",
              "      <td>3292.110107</td>\n",
              "      <td>3200.975098</td>\n",
              "    </tr>\n",
              "    <tr>\n",
              "      <th>2021-08-12</th>\n",
              "      <td>3303.500000</td>\n",
              "      <td>3184.080811</td>\n",
              "    </tr>\n",
              "    <tr>\n",
              "      <th>2021-08-13</th>\n",
              "      <td>3293.969971</td>\n",
              "      <td>3173.543701</td>\n",
              "    </tr>\n",
              "  </tbody>\n",
              "</table>\n",
              "<p>452 rows × 2 columns</p>\n",
              "</div>"
            ],
            "text/plain": [
              "                  Close  Predictions\n",
              "Date                                \n",
              "2019-10-29  1762.709961  1742.516724\n",
              "2019-10-30  1779.989990  1741.190186\n",
              "2019-10-31  1776.660034  1743.622681\n",
              "2019-11-01  1791.439941  1744.898193\n",
              "2019-11-04  1804.660034  1749.005371\n",
              "...                 ...          ...\n",
              "2021-08-09  3341.870117  3229.920898\n",
              "2021-08-10  3320.679932  3215.746826\n",
              "2021-08-11  3292.110107  3200.975098\n",
              "2021-08-12  3303.500000  3184.080811\n",
              "2021-08-13  3293.969971  3173.543701\n",
              "\n",
              "[452 rows x 2 columns]"
            ]
          },
          "metadata": {
            "tags": []
          },
          "execution_count": 23
        }
      ]
    }
  ]
}